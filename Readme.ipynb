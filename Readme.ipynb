{
 "cells": [
  {
   "cell_type": "markdown",
   "metadata": {},
   "source": [
    "# static\n",
    "\n",
    "Serve a directory of static files\n",
    "\n",
    "## Features\n",
    "\n",
    "- Protects against malicious requests\n",
    "- Flexible default files\n",
    "- Correctly sets Content-Type\n",
    "- Handles gzip compression\n",
    "- Handles ETag based caching\n",
    "- Handles HEAD requests"
   ]
  },
  {
   "cell_type": "code",
   "execution_count": 1,
   "metadata": {
    "collapsed": false
   },
   "outputs": [],
   "source": [
    "@require \"github.com/coiljl/static\" static Request;"
   ]
  },
  {
   "cell_type": "markdown",
   "metadata": {},
   "source": [
    "## API\n",
    "\n",
    "### `static(root::AbstractString, req::Request{:GET}; index=\"index.html\")`\n",
    "\n",
    "Handles a request for a static file by looking for one matching `req.uri.path` in `root`. If successfull the `Response` will look like this:"
   ]
  },
  {
   "cell_type": "code",
   "execution_count": 2,
   "metadata": {
    "collapsed": false
   },
   "outputs": [
    {
     "data": {
      "text/plain": [
       "Response(200,Dict(\"Content-Length\"=>\"198\",\"ETag\"=>\"2259599918482302498\",\"Content-Type\"=>\"application/octet-stream\"),IOStream(<file /Users/jkroso/Projects/JuliaLang/coil/static/examples/simple.jl>))"
      ]
     },
     "execution_count": 2,
     "metadata": {},
     "output_type": "execute_result"
    }
   ],
   "source": [
    "static(\".\", Request(IOBuffer(\"GET /examples/simple.jl\\r\\n\\r\\n\")))"
   ]
  },
  {
   "cell_type": "markdown",
   "metadata": {},
   "source": [
    "If no matching file is found the `Response` will look like this:"
   ]
  },
  {
   "cell_type": "code",
   "execution_count": 3,
   "metadata": {
    "collapsed": false
   },
   "outputs": [
    {
     "data": {
      "text/plain": [
       "Response(404,Dict{ASCIIString,ASCIIString}(),\"\")"
      ]
     },
     "execution_count": 3,
     "metadata": {},
     "output_type": "execute_result"
    }
   ],
   "source": [
    "static(\".\", Request(IOBuffer(\"GET /not-a-file\\r\\n\\r\\n\")))"
   ]
  },
  {
   "cell_type": "markdown",
   "metadata": {},
   "source": [
    "If the file has an etag matching the one in the `Request` it will be a `304 Not Changed` Response"
   ]
  },
  {
   "cell_type": "code",
   "execution_count": 4,
   "metadata": {
    "collapsed": false
   },
   "outputs": [
    {
     "data": {
      "text/plain": [
       "Response(304,Dict{ASCIIString,ASCIIString}(),\"\")"
      ]
     },
     "execution_count": 4,
     "metadata": {},
     "output_type": "execute_result"
    }
   ],
   "source": [
    "static(\".\", Request(IOBuffer(\"\"\"GET /examples/simple.jl\\r\\nIf-None-Match: $(Out[2].meta[\"ETag\"])\\r\\n\\r\\n\"\"\")))"
   ]
  },
  {
   "cell_type": "markdown",
   "metadata": {},
   "source": [
    "Additionally if the `Request` explicitly says it can accept gzip encoded data then the file will be compressed accordingly; so long as it actually ends up being smaller. Also by default if `req.uri.path` refers to a directory it will be expanded to `req.uri.path * index`"
   ]
  },
  {
   "cell_type": "code",
   "execution_count": 5,
   "metadata": {
    "collapsed": false
   },
   "outputs": [
    {
     "data": {
      "text/plain": [
       "Response(200,Dict(\"Content-Length\"=>\"2816\",\"ETag\"=>\"13017586935762529160\",\"Content-Type\"=>\"application/octet-stream\"),IOStream(<file /Users/jkroso/Projects/JuliaLang/coil/static/main.jl>))"
      ]
     },
     "execution_count": 5,
     "metadata": {},
     "output_type": "execute_result"
    }
   ],
   "source": [
    "static(\".\", Request(IOBuffer(\"GET /\\r\\n\\r\\n\")); index=\"main.jl\")"
   ]
  },
  {
   "cell_type": "markdown",
   "metadata": {},
   "source": [
    "However this behaviour can be disabled by setting `index` to and empty `String`"
   ]
  },
  {
   "cell_type": "code",
   "execution_count": 6,
   "metadata": {
    "collapsed": false
   },
   "outputs": [
    {
     "data": {
      "text/plain": [
       "Response(404,Dict{ASCIIString,ASCIIString}(),\"\")"
      ]
     },
     "execution_count": 6,
     "metadata": {},
     "output_type": "execute_result"
    }
   ],
   "source": [
    "static(\".\", Request(IOBuffer(\"GET /\\r\\n\\r\\n\")); index=\"\")"
   ]
  },
  {
   "cell_type": "markdown",
   "metadata": {},
   "source": [
    "### `static(root::String, req::Request{:HEAD}; index=\"index.html\")`"
   ]
  },
  {
   "cell_type": "code",
   "execution_count": 7,
   "metadata": {
    "collapsed": false
   },
   "outputs": [
    {
     "data": {
      "text/plain": [
       "Response(200,Dict(\"Content-Length\"=>\"4419\",\"ETag\"=>\"3206020198765577793\",\"Content-Type\"=>\"application/octet-stream\"),\"\")"
      ]
     },
     "execution_count": 7,
     "metadata": {},
     "output_type": "execute_result"
    }
   ],
   "source": [
    "static(\".\", Request(IOBuffer(\"HEAD /\\r\\n\\r\\n\")); index=\"Readme.ipynb\")"
   ]
  },
  {
   "cell_type": "markdown",
   "metadata": {},
   "source": [
    "### `static(root::String, req::Request{:OPTIONS})`"
   ]
  },
  {
   "cell_type": "code",
   "execution_count": 8,
   "metadata": {
    "collapsed": false
   },
   "outputs": [
    {
     "data": {
      "text/plain": [
       "Response(204,Dict(\"Allow\"=>\"HEAD,GET,OPTIONS\"),\"\")"
      ]
     },
     "execution_count": 8,
     "metadata": {},
     "output_type": "execute_result"
    }
   ],
   "source": [
    "static(\".\", Request(IOBuffer(\"OPTIONS /example.jl\\r\\n\\r\\n\")))"
   ]
  },
  {
   "cell_type": "markdown",
   "metadata": {},
   "source": [
    "### `static(root::String, req::Request)`\n",
    "\n",
    "All other HTTP request methods will be met with a `405` error"
   ]
  },
  {
   "cell_type": "code",
   "execution_count": 9,
   "metadata": {
    "collapsed": false
   },
   "outputs": [
    {
     "data": {
      "text/plain": [
       "Response(405,Dict(\"Allow\"=>\"HEAD,GET,OPTIONS\"),\"\")"
      ]
     },
     "execution_count": 9,
     "metadata": {},
     "output_type": "execute_result"
    }
   ],
   "source": [
    "static(\".\", Request(IOBuffer(\"DELETE /example.jl\\r\\n\\r\\n\")))"
   ]
  }
 ],
 "metadata": {
  "kernelspec": {
   "display_name": "Julia 0.4.3",
   "language": "julia",
   "name": "julia-0.4"
  },
  "language_info": {
   "file_extension": ".jl",
   "mimetype": "application/julia",
   "name": "julia",
   "version": "0.4.3"
  }
 },
 "nbformat": 4,
 "nbformat_minor": 0
}
