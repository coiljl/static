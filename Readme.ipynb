{
 "metadata": {
  "language": "Julia",
  "name": "",
  "signature": "sha256:9f9e66f62e4f73e15226257e9b1552d6efd03abd9bdbbe5331d63ec393e6b001"
 },
 "nbformat": 3,
 "nbformat_minor": 0,
 "worksheets": [
  {
   "cells": [
    {
     "cell_type": "markdown",
     "metadata": {},
     "source": [
      "# static\n",
      "\n",
      "Serve a directory of static files\n",
      "\n",
      "## Features\n",
      "\n",
      "- Protects against malicious requests\n",
      "- Flexible default files\n",
      "- Correctly sets Content-Type\n",
      "- Handles gzip compression\n",
      "- Handles ETag based caching\n",
      "- Handles HEAD requests\n",
      "\n",
      "## Installation\n",
      "\n",
      "With [packin](//github.com/jkroso/packin): `packin add coiljl/static`"
     ]
    },
    {
     "cell_type": "code",
     "collapsed": false,
     "input": [
      "@require \"static\" serve;"
     ],
     "language": "python",
     "metadata": {},
     "outputs": [],
     "prompt_number": 1
    },
    {
     "cell_type": "markdown",
     "metadata": {},
     "source": [
      "## API"
     ]
    },
    {
     "cell_type": "code",
     "collapsed": false,
     "input": [
      "@require \"Request\" Request;"
     ],
     "language": "python",
     "metadata": {},
     "outputs": [],
     "prompt_number": 2
    },
    {
     "cell_type": "markdown",
     "metadata": {},
     "source": [
      "### `serve(root::String, req::Request{:GET}; index=\"index.html\")`\n",
      "\n",
      "Handles a request for a static file by looking for one matching `req.uri.path` in `root`. If successfull the `Response` will look like this:"
     ]
    },
    {
     "cell_type": "code",
     "collapsed": false,
     "input": [
      "serve(\".\", Request(IOBuffer(\"GET /example.jl\\r\\n\\r\\n\")))"
     ],
     "language": "python",
     "metadata": {},
     "outputs": [
      {
       "metadata": {},
       "output_type": "pyout",
       "prompt_number": 3,
       "text": [
        "Response(200,[\"Content-Length\"=>\"91\",\"ETag\"=>\"18275953594226568780\",\"Content-Type\"=>\"application/octet-stream\"],IOStream(<file /Users/jkroso/Projects/JuliaLang/coil/static/example.jl>))"
       ]
      }
     ],
     "prompt_number": 3
    },
    {
     "cell_type": "code",
     "collapsed": false,
     "input": [
      "readall(Out[3].data)"
     ],
     "language": "python",
     "metadata": {},
     "outputs": [
      {
       "metadata": {},
       "output_type": "pyout",
       "prompt_number": 4,
       "text": [
        "@require \"server\" start\n",
        "@require \"static\" serve\n",
        "\n",
        "start(serve(\".\", index=\"index.jl\"), 8000)\n"
       ]
      }
     ],
     "prompt_number": 4
    },
    {
     "cell_type": "markdown",
     "metadata": {},
     "source": [
      "If no matching file is found the `Response` will look like this:"
     ]
    },
    {
     "cell_type": "code",
     "collapsed": false,
     "input": [
      "serve(\".\", Request(IOBuffer(\"GET /not-a-file\\r\\n\\r\\n\")))"
     ],
     "language": "python",
     "metadata": {},
     "outputs": [
      {
       "metadata": {},
       "output_type": "pyout",
       "prompt_number": 5,
       "text": [
        "Response(404,Dict{String,String}(),nothing)"
       ]
      }
     ],
     "prompt_number": 5
    },
    {
     "cell_type": "markdown",
     "metadata": {},
     "source": [
      "If the file has an etag matching the one in the `Request`:"
     ]
    },
    {
     "cell_type": "code",
     "collapsed": false,
     "input": [
      "serve(\".\", Request(IOBuffer(\"\"\"GET /example.jl\\r\\nIf-None-Match: $(Out[3].meta[\"ETag\"])\\r\\n\\r\\n\"\"\")))"
     ],
     "language": "python",
     "metadata": {},
     "outputs": [
      {
       "metadata": {},
       "output_type": "pyout",
       "prompt_number": 6,
       "text": [
        "Response(304,Dict{String,String}(),nothing)"
       ]
      }
     ],
     "prompt_number": 6
    },
    {
     "cell_type": "markdown",
     "metadata": {},
     "source": [
      "Additionally if the `Request` explicitly says it can accept gzip encoded data then the file will be compressed accordingly; so long as it actually ends up being smaller. Also by default if `req.uri.path` refers to a directory it will be expanded to `req.uri.path * index`"
     ]
    },
    {
     "cell_type": "code",
     "collapsed": false,
     "input": [
      "serve(\".\", Request(IOBuffer(\"GET /\\r\\n\\r\\n\")); index=\"index.jl\")"
     ],
     "language": "python",
     "metadata": {},
     "outputs": [
      {
       "metadata": {},
       "output_type": "pyout",
       "prompt_number": 7,
       "text": [
        "Response(200,[\"Content-Length\"=>\"2412\",\"ETag\"=>\"15778127631110828855\",\"Content-Type\"=>\"application/octet-stream\"],IOStream(<file /Users/jkroso/Projects/JuliaLang/coil/static/index.jl>))"
       ]
      }
     ],
     "prompt_number": 7
    },
    {
     "cell_type": "markdown",
     "metadata": {},
     "source": [
      "However this behaviour can be disabled by setting `index` to and empty `String`"
     ]
    },
    {
     "cell_type": "code",
     "collapsed": false,
     "input": [
      "serve(\".\", Request(IOBuffer(\"GET /\\r\\n\\r\\n\")); index=\"\")"
     ],
     "language": "python",
     "metadata": {},
     "outputs": [
      {
       "metadata": {},
       "output_type": "pyout",
       "prompt_number": 8,
       "text": [
        "Response(404,Dict{String,String}(),nothing)"
       ]
      }
     ],
     "prompt_number": 8
    },
    {
     "cell_type": "markdown",
     "metadata": {},
     "source": [
      "### `serve(root::String, req::Request{:HEAD}; index=\"index.html\")`"
     ]
    },
    {
     "cell_type": "code",
     "collapsed": false,
     "input": [
      "serve(\".\", Request(IOBuffer(\"HEAD /\\r\\n\\r\\n\")))"
     ],
     "language": "python",
     "metadata": {},
     "outputs": [
      {
       "metadata": {},
       "output_type": "pyout",
       "prompt_number": 9,
       "text": [
        "Response(404,Dict{String,String}(),nothing)"
       ]
      }
     ],
     "prompt_number": 9
    },
    {
     "cell_type": "markdown",
     "metadata": {},
     "source": [
      "### `serve(root::String, req::Request{:OPTIONS})`"
     ]
    },
    {
     "cell_type": "code",
     "collapsed": false,
     "input": [
      "serve(\".\", Request(IOBuffer(\"OPTIONS /example.jl\\r\\n\\r\\n\")))"
     ],
     "language": "python",
     "metadata": {},
     "outputs": [
      {
       "metadata": {},
       "output_type": "pyout",
       "prompt_number": 10,
       "text": [
        "Response(204,[\"Allow\"=>\"HEAD,GET,OPTIONS\"],nothing)"
       ]
      }
     ],
     "prompt_number": 10
    },
    {
     "cell_type": "markdown",
     "metadata": {},
     "source": [
      "### `serve(root::String, req::Request)`\n",
      "\n",
      "All other HTTP request methods will be met with a `405` error"
     ]
    },
    {
     "cell_type": "code",
     "collapsed": false,
     "input": [
      "serve(\".\", Request(IOBuffer(\"DELETE /example.jl\\r\\n\\r\\n\")))"
     ],
     "language": "python",
     "metadata": {},
     "outputs": [
      {
       "metadata": {},
       "output_type": "pyout",
       "prompt_number": 11,
       "text": [
        "Response(405,[\"Allow\"=>\"HEAD,GET,OPTIONS\"],nothing)"
       ]
      }
     ],
     "prompt_number": 11
    }
   ],
   "metadata": {}
  }
 ]
}